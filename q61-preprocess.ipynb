{
 "cells": [
  {
   "cell_type": "markdown",
   "id": "a66c27b1",
   "metadata": {},
   "source": [
    "# Intro"
   ]
  },
  {
   "cell_type": "code",
   "execution_count": 1,
   "id": "70f54cc5",
   "metadata": {},
   "outputs": [
    {
     "name": "stderr",
     "output_type": "stream",
     "text": [
      "/home/andrew/anaconda3/envs/practicum-kpmi/lib/python3.9/site-packages/torch/cuda/__init__.py:80: UserWarning: CUDA initialization: The NVIDIA driver on your system is too old (found version 9010). Please update your GPU driver by downloading and installing a new version from the URL: http://www.nvidia.com/Download/index.aspx Alternatively, go to: https://pytorch.org to install a PyTorch version that has been compiled with your version of the CUDA driver. (Triggered internally at  ../c10/cuda/CUDAFunctions.cpp:112.)\n",
      "  return torch._C._cuda_getDeviceCount() > 0\n",
      "2022-07-29 14:22:19.546717: W tensorflow/stream_executor/platform/default/dso_loader.cc:64] Could not load dynamic library 'libcudart.so.11.0'; dlerror: libcudart.so.11.0: cannot open shared object file: No such file or directory\n",
      "2022-07-29 14:22:19.546749: I tensorflow/stream_executor/cuda/cudart_stub.cc:29] Ignore above cudart dlerror if you do not have a GPU set up on your machine.\n",
      "2022-07-29 14:22:22.272207: E tensorflow/stream_executor/cuda/cuda_driver.cc:271] failed call to cuInit: CUDA_ERROR_UNKNOWN: unknown error\n",
      "2022-07-29 14:22:22.272332: I tensorflow/stream_executor/cuda/cuda_diagnostics.cc:156] kernel driver does not appear to be running on this host (ndrewb): /proc/driver/nvidia/version does not exist\n"
     ]
    }
   ],
   "source": [
    "import json as js\n",
    "import itertools\n",
    "import operator\n",
    "\n",
    "import numpy as np\n",
    "import pandas as pd\n",
    "import spacy\n",
    "from spacy.matcher import PhraseMatcher"
   ]
  },
  {
   "cell_type": "markdown",
   "id": "249cc983",
   "metadata": {},
   "source": [
    "# Loading objective data"
   ]
  },
  {
   "cell_type": "code",
   "execution_count": 2,
   "id": "bdfe1e08",
   "metadata": {},
   "outputs": [],
   "source": [
    "data = pd.read_csv('data/kpmi.ru_190k.csv', usecols=['q61']).squeeze(axis=1)"
   ]
  },
  {
   "cell_type": "code",
   "execution_count": 3,
   "id": "42166f7d",
   "metadata": {},
   "outputs": [
    {
     "data": {
      "text/plain": [
       "False    152856\n",
       "True      41712\n",
       "Name: q61, dtype: int64"
      ]
     },
     "execution_count": 3,
     "metadata": {},
     "output_type": "execute_result"
    }
   ],
   "source": [
    "data.isna().value_counts()"
   ]
  },
  {
   "cell_type": "markdown",
   "id": "1bce0de2",
   "metadata": {},
   "source": [
    "It is really handy to have separate data set to explore and experiment with."
   ]
  },
  {
   "cell_type": "code",
   "execution_count": 4,
   "id": "4d0a0c02",
   "metadata": {},
   "outputs": [],
   "source": [
    "q61 = data.copy().dropna()"
   ]
  },
  {
   "cell_type": "markdown",
   "id": "e8792630",
   "metadata": {},
   "source": [
    "Let's make some basic preprocessing using built-in methods."
   ]
  },
  {
   "cell_type": "code",
   "execution_count": 5,
   "id": "2e42b27b",
   "metadata": {},
   "outputs": [
    {
     "data": {
      "text/plain": [
       "170               0\n",
       "436            1111\n",
       "767               5\n",
       "772              66\n",
       "1086              1\n",
       "            ...    \n",
       "165791           42\n",
       "165894            1\n",
       "169885            2\n",
       "170465            1\n",
       "171164    123456789\n",
       "Name: q61, Length: 91, dtype: object"
      ]
     },
     "execution_count": 5,
     "metadata": {},
     "output_type": "execute_result"
    }
   ],
   "source": [
    "q61[q61.str.isdigit()]"
   ]
  },
  {
   "cell_type": "code",
   "execution_count": 6,
   "id": "c4a260b2",
   "metadata": {},
   "outputs": [],
   "source": [
    "# excluding entries where all characters in each string are digits\n",
    "q61 = q61[~q61.str.isdigit()]"
   ]
  },
  {
   "cell_type": "code",
   "execution_count": 7,
   "id": "4fb66549",
   "metadata": {},
   "outputs": [],
   "source": [
    "q61 = q61.str.lower()\n",
    "q61 = q61.str.strip()"
   ]
  },
  {
   "cell_type": "code",
   "execution_count": 8,
   "id": "732f6a85",
   "metadata": {},
   "outputs": [
    {
     "data": {
      "text/plain": [
       "14931"
      ]
     },
     "execution_count": 8,
     "metadata": {},
     "output_type": "execute_result"
    }
   ],
   "source": [
    "q61 = q61.drop_duplicates()\n",
    "q61.count()"
   ]
  },
  {
   "cell_type": "markdown",
   "id": "375520f1",
   "metadata": {},
   "source": [
    "At this point we have slightly preprocessed data set( `pd.Series` actually ) which consists of 14931 unique entries. We'll work on this more later."
   ]
  },
  {
   "cell_type": "markdown",
   "id": "d60cf51b",
   "metadata": {},
   "source": [
    "# Profession classificator"
   ]
  },
  {
   "cell_type": "markdown",
   "id": "27a2a7a0",
   "metadata": {},
   "source": [
    "Here we're making use of [HeadHunter's API](https://dev.hh.ru/), particularly [this part](https://api.hh.ru/openapi/redoc#tag/Obshie-spravochniki/paths/~1professional_roles/get) of it. One can uncomment lines below to get the JSON file again."
   ]
  },
  {
   "cell_type": "code",
   "execution_count": 9,
   "id": "31fe98cc",
   "metadata": {},
   "outputs": [],
   "source": [
    "# # getting professional_roles\n",
    "# !curl -o professional_roles.json -H 'User-Agent: api-test-agent' https://api.hh.ru/professional_roles"
   ]
  },
  {
   "cell_type": "code",
   "execution_count": 10,
   "id": "918b6e94",
   "metadata": {},
   "outputs": [],
   "source": [
    "with open('professional_roles.json') as f:\n",
    "    professional_roles = js.load(f)"
   ]
  },
  {
   "cell_type": "markdown",
   "id": "f98b2aa9",
   "metadata": {},
   "source": [
    "In the following two cells we're struggling with nested structure of the JSON file. The goal is to have one nice list with proffessional roles."
   ]
  },
  {
   "cell_type": "code",
   "execution_count": 11,
   "id": "25473a79",
   "metadata": {},
   "outputs": [
    {
     "data": {
      "text/plain": [
       "[['автомойщик'],\n",
       " ['автослесарь', ' автомеханик'],\n",
       " ['мастер-приемщик'],\n",
       " ['менеджер по продажам', ' менеджер по работе с клиентами'],\n",
       " ['администратор'],\n",
       " ['делопроизводитель', ' архивариус'],\n",
       " ['курьер'],\n",
       " ['менеджер/руководитель ахо'],\n",
       " ['оператор пк', ' оператор базы данных'],\n",
       " ['офис-менеджер']]"
      ]
     },
     "execution_count": 11,
     "metadata": {},
     "output_type": "execute_result"
    }
   ],
   "source": [
    "names = []\n",
    "for category in professional_roles['categories']:\n",
    "    for role in category.get('roles'):\n",
    "        names.append(role.get('name').lower().split(','))\n",
    "\n",
    "names[: 10]"
   ]
  },
  {
   "cell_type": "code",
   "execution_count": 12,
   "id": "94c98067",
   "metadata": {},
   "outputs": [
    {
     "data": {
      "text/plain": [
       "['автомойщик',\n",
       " 'автослесарь',\n",
       " 'автомеханик',\n",
       " 'мастер-приемщик',\n",
       " 'менеджер по продажам',\n",
       " 'менеджер по работе с клиентами',\n",
       " 'администратор',\n",
       " 'делопроизводитель',\n",
       " 'архивариус',\n",
       " 'курьер']"
      ]
     },
     "execution_count": 12,
     "metadata": {},
     "output_type": "execute_result"
    }
   ],
   "source": [
    "# unpacking 'names' list of lists\n",
    "roles = list(itertools.chain(*names))\n",
    "roles = [role.strip() for role in roles]\n",
    "\n",
    "roles[: 10]"
   ]
  },
  {
   "cell_type": "code",
   "execution_count": 13,
   "id": "bc97bfcc",
   "metadata": {},
   "outputs": [
    {
     "data": {
      "text/plain": [
       "288"
      ]
     },
     "execution_count": 13,
     "metadata": {},
     "output_type": "execute_result"
    }
   ],
   "source": [
    "len(roles)"
   ]
  },
  {
   "cell_type": "markdown",
   "id": "1219055a",
   "metadata": {},
   "source": [
    "# PhraseMatcher\n",
    "Here we will be using `roles` as basis to create patterns which may provide us with some matches in target data. The PhraseMatcher capable of efficient matching on large terminology lists."
   ]
  },
  {
   "cell_type": "code",
   "execution_count": 14,
   "id": "f0d92ddb",
   "metadata": {},
   "outputs": [
    {
     "name": "stdout",
     "output_type": "stream",
     "text": [
      "['tok2vec', 'morphologizer', 'attribute_ruler', 'lemmatizer']\n"
     ]
    }
   ],
   "source": [
    "nlp = spacy.load('ru_core_news_lg', disable=['parser', 'ner'])\n",
    "print(nlp.pipe_names)"
   ]
  },
  {
   "cell_type": "code",
   "execution_count": 15,
   "id": "46384cd2",
   "metadata": {},
   "outputs": [],
   "source": [
    "# making Doc objects out of 'roles' list\n",
    "docs_roles = list(nlp(role) for role in roles)"
   ]
  },
  {
   "cell_type": "code",
   "execution_count": 16,
   "id": "1068c0e6",
   "metadata": {},
   "outputs": [],
   "source": [
    "# creating patterns \n",
    "matcher = PhraseMatcher(nlp.vocab, attr=\"LEMMA\")\n",
    "\n",
    "# 'patterns1' based on full entries of professional roles list items,\n",
    "# whereas 'patterns2' takes only first token of the original item\n",
    "patterns1 = docs_roles\n",
    "patterns2 = list(nlp(doc[0].text) for doc in docs_roles)\n",
    "\n",
    "matcher.add(\"ROLES-FULL\", patterns1)\n",
    "matcher.add(\"ROLES-SHORT\", patterns2)"
   ]
  },
  {
   "cell_type": "code",
   "execution_count": 17,
   "id": "1b20504a",
   "metadata": {},
   "outputs": [],
   "source": [
    "# string from a pd.Series goes as an input to 'get_matches' function\n",
    "def get_matches(entry: str):\n",
    "    # making Doc object out of input data\n",
    "    doc = nlp(entry)\n",
    "    # creating list to store matches\n",
    "    matches = []\n",
    "    # extracting any matches found\n",
    "    for match_id, start, end in matcher(doc):\n",
    "        matches.append(doc[start:end])\n",
    "    # this condition block may produce better accuracy during validation step\n",
    "    if len(matches) > 2:\n",
    "        matches.append(doc)\n",
    "    return list(set(matches)) if len(matches) > 0 else np.nan\n",
    "\n",
    "    \n",
    "q61_matches = q61.apply(get_matches)"
   ]
  },
  {
   "cell_type": "code",
   "execution_count": 18,
   "id": "5c47ba95",
   "metadata": {},
   "outputs": [
    {
     "data": {
      "text/plain": [
       "93                                            [(экономист)]\n",
       "94                                                      NaN\n",
       "95                                              [(учитель)]\n",
       "97                                                      NaN\n",
       "98                                                      NaN\n",
       "                                ...                        \n",
       "182938    [(главный), (топ, -, менеджмент,  , |, главный...\n",
       "184169                                         [(директор)]\n",
       "188174                                                  NaN\n",
       "190777                                                  NaN\n",
       "191076                                          [(бизнеса)]\n",
       "Name: q61, Length: 14931, dtype: object"
      ]
     },
     "execution_count": 18,
     "metadata": {},
     "output_type": "execute_result"
    }
   ],
   "source": [
    "q61_matches"
   ]
  },
  {
   "cell_type": "code",
   "execution_count": 19,
   "id": "42d26084",
   "metadata": {},
   "outputs": [],
   "source": [
    "# 'get_similar' function designed to be applied to matches set from the previous step\n",
    "def get_similar(docs):\n",
    "    suggestions = []\n",
    "    for doc in docs:\n",
    "        scores = []\n",
    "        for doc_role in docs_roles:\n",
    "            # estimating objects similarity\n",
    "            score = doc.similarity(doc_role)\n",
    "            scores.append(score)\n",
    "        for _ in scores:\n",
    "            index, value = max(enumerate(scores), key=operator.itemgetter(1))\n",
    "            # setting score threshold\n",
    "            if value > 0.7:\n",
    "                suggestions.append((roles[index], value))\n",
    "    suggestions = list(set(suggestions))\n",
    "    return suggestions if len(suggestions) > 0 else np.nan"
   ]
  },
  {
   "cell_type": "code",
   "execution_count": 20,
   "id": "656bd326",
   "metadata": {},
   "outputs": [
    {
     "name": "stderr",
     "output_type": "stream",
     "text": [
      "/tmp/ipykernel_40211/2708579301.py:8: UserWarning: [W008] Evaluating Span.similarity based on empty vectors.\n",
      "  score = doc.similarity(doc_role)\n",
      "/tmp/ipykernel_40211/2708579301.py:8: UserWarning: [W008] Evaluating Doc.similarity based on empty vectors.\n",
      "  score = doc.similarity(doc_role)\n"
     ]
    },
    {
     "name": "stdout",
     "output_type": "stream",
     "text": [
      "CPU times: user 1min 26s, sys: 49.9 ms, total: 1min 26s\n",
      "Wall time: 1min 26s\n"
     ]
    }
   ],
   "source": [
    "%%time\n",
    "suggestions = q61_matches.dropna().apply(get_similar)"
   ]
  },
  {
   "cell_type": "code",
   "execution_count": 21,
   "id": "4096edb8",
   "metadata": {},
   "outputs": [
    {
     "data": {
      "text/plain": [
       "93                                       [(экономист, 1.0)]\n",
       "95                                         [(учитель, 1.0)]\n",
       "102       [(менеджер/руководитель ахо, 0.7935711144609798)]\n",
       "108                                          [(повар, 1.0)]\n",
       "109                   [(фитнес-тренер, 0.7732876534767605)]\n",
       "                                ...                        \n",
       "178519    [(pr-менеджер, 1.0), (pr-менеджер, 0.849594620...\n",
       "179527             [(начальник склада, 0.8047933596030894)]\n",
       "182357    [(финансовый менеджер, 0.7060157768667648), (б...\n",
       "182938    [(бухгалтер, 1.0), (финансовый менеджер, 0.706...\n",
       "184169         [(генеральный директор, 0.8755402042989613)]\n",
       "Name: q61, Length: 4339, dtype: object"
      ]
     },
     "execution_count": 21,
     "metadata": {},
     "output_type": "execute_result"
    }
   ],
   "source": [
    "suggestions = suggestions.dropna()\n",
    "suggestions"
   ]
  },
  {
   "cell_type": "markdown",
   "id": "2f14c149",
   "metadata": {},
   "source": [
    "# Results review"
   ]
  },
  {
   "cell_type": "code",
   "execution_count": 22,
   "id": "d58eaad4",
   "metadata": {},
   "outputs": [
    {
     "data": {
      "text/html": [
       "<div>\n",
       "<style scoped>\n",
       "    .dataframe tbody tr th:only-of-type {\n",
       "        vertical-align: middle;\n",
       "    }\n",
       "\n",
       "    .dataframe tbody tr th {\n",
       "        vertical-align: top;\n",
       "    }\n",
       "\n",
       "    .dataframe thead th {\n",
       "        text-align: right;\n",
       "    }\n",
       "</style>\n",
       "<table border=\"1\" class=\"dataframe\">\n",
       "  <thead>\n",
       "    <tr style=\"text-align: right;\">\n",
       "      <th></th>\n",
       "      <th>q61</th>\n",
       "      <th>suggestions</th>\n",
       "    </tr>\n",
       "  </thead>\n",
       "  <tbody>\n",
       "    <tr>\n",
       "      <th>93</th>\n",
       "      <td>экономист</td>\n",
       "      <td>[(экономист, 1.0)]</td>\n",
       "    </tr>\n",
       "    <tr>\n",
       "      <th>95</th>\n",
       "      <td>учитель</td>\n",
       "      <td>[(учитель, 1.0)]</td>\n",
       "    </tr>\n",
       "    <tr>\n",
       "      <th>102</th>\n",
       "      <td>руководитель участка</td>\n",
       "      <td>[(менеджер/руководитель ахо, 0.7935711144609798)]</td>\n",
       "    </tr>\n",
       "    <tr>\n",
       "      <th>108</th>\n",
       "      <td>повар</td>\n",
       "      <td>[(повар, 1.0)]</td>\n",
       "    </tr>\n",
       "    <tr>\n",
       "      <th>109</th>\n",
       "      <td>фитнес</td>\n",
       "      <td>[(фитнес-тренер, 0.7732876534767605)]</td>\n",
       "    </tr>\n",
       "    <tr>\n",
       "      <th>...</th>\n",
       "      <td>...</td>\n",
       "      <td>...</td>\n",
       "    </tr>\n",
       "    <tr>\n",
       "      <th>178519</th>\n",
       "      <td>реклама и  маркетинг  | pr-менеджер</td>\n",
       "      <td>[(pr-менеджер, 1.0), (pr-менеджер, 0.849594620...</td>\n",
       "    </tr>\n",
       "    <tr>\n",
       "      <th>179527</th>\n",
       "      <td>топ-менеджмент | начальник финансового отдела</td>\n",
       "      <td>[(начальник склада, 0.8047933596030894)]</td>\n",
       "    </tr>\n",
       "    <tr>\n",
       "      <th>182357</th>\n",
       "      <td>топ-менеджмент | главный бухгалтер</td>\n",
       "      <td>[(финансовый менеджер, 0.7060157768667648), (б...</td>\n",
       "    </tr>\n",
       "    <tr>\n",
       "      <th>182938</th>\n",
       "      <td>топ-менеджмент  | главный бухгалтер</td>\n",
       "      <td>[(бухгалтер, 1.0), (финансовый менеджер, 0.706...</td>\n",
       "    </tr>\n",
       "    <tr>\n",
       "      <th>184169</th>\n",
       "      <td>топ-менеджмент | директор по рекламе</td>\n",
       "      <td>[(генеральный директор, 0.8755402042989613)]</td>\n",
       "    </tr>\n",
       "  </tbody>\n",
       "</table>\n",
       "<p>4339 rows × 2 columns</p>\n",
       "</div>"
      ],
      "text/plain": [
       "                                                  q61  \\\n",
       "93                                          экономист   \n",
       "95                                            учитель   \n",
       "102                              руководитель участка   \n",
       "108                                             повар   \n",
       "109                                            фитнес   \n",
       "...                                               ...   \n",
       "178519            реклама и  маркетинг  | pr-менеджер   \n",
       "179527  топ-менеджмент | начальник финансового отдела   \n",
       "182357             топ-менеджмент | главный бухгалтер   \n",
       "182938            топ-менеджмент  | главный бухгалтер   \n",
       "184169           топ-менеджмент | директор по рекламе   \n",
       "\n",
       "                                              suggestions  \n",
       "93                                     [(экономист, 1.0)]  \n",
       "95                                       [(учитель, 1.0)]  \n",
       "102     [(менеджер/руководитель ахо, 0.7935711144609798)]  \n",
       "108                                        [(повар, 1.0)]  \n",
       "109                 [(фитнес-тренер, 0.7732876534767605)]  \n",
       "...                                                   ...  \n",
       "178519  [(pr-менеджер, 1.0), (pr-менеджер, 0.849594620...  \n",
       "179527           [(начальник склада, 0.8047933596030894)]  \n",
       "182357  [(финансовый менеджер, 0.7060157768667648), (б...  \n",
       "182938  [(бухгалтер, 1.0), (финансовый менеджер, 0.706...  \n",
       "184169       [(генеральный директор, 0.8755402042989613)]  \n",
       "\n",
       "[4339 rows x 2 columns]"
      ]
     },
     "execution_count": 22,
     "metadata": {},
     "output_type": "execute_result"
    }
   ],
   "source": [
    "dictionary = pd.concat([q61, suggestions], axis=1, join='inner')\n",
    "dictionary.columns = ['q61', 'suggestions']\n",
    "dictionary"
   ]
  },
  {
   "cell_type": "code",
   "execution_count": 23,
   "id": "6d8b921e",
   "metadata": {},
   "outputs": [],
   "source": [
    "column1 = dictionary['q61']\n",
    "column2 = dictionary['suggestions']\n",
    "\n",
    "data = data.str.lower()\n",
    "data = data.str.strip()\n",
    "\n",
    "q61_suggestions = data.map(dict(zip(column1, column2)))"
   ]
  },
  {
   "cell_type": "code",
   "execution_count": 24,
   "id": "a69c0921",
   "metadata": {},
   "outputs": [],
   "source": [
    "data_preprocessed = pd.concat([data, q61_suggestions], axis=1)\n",
    "data_preprocessed.columns = ['q61', 'q61_suggestions']"
   ]
  },
  {
   "cell_type": "code",
   "execution_count": 25,
   "id": "7e524292",
   "metadata": {},
   "outputs": [],
   "source": [
    "pd.set_option(\"display.max_rows\", 1000)"
   ]
  },
  {
   "cell_type": "markdown",
   "id": "6753c66b",
   "metadata": {},
   "source": [
    "Let's take a look at results we've accomplished so far."
   ]
  },
  {
   "cell_type": "code",
   "execution_count": 26,
   "id": "dfd3ae7b",
   "metadata": {},
   "outputs": [
    {
     "data": {
      "text/html": [
       "<div>\n",
       "<style scoped>\n",
       "    .dataframe tbody tr th:only-of-type {\n",
       "        vertical-align: middle;\n",
       "    }\n",
       "\n",
       "    .dataframe tbody tr th {\n",
       "        vertical-align: top;\n",
       "    }\n",
       "\n",
       "    .dataframe thead th {\n",
       "        text-align: right;\n",
       "    }\n",
       "</style>\n",
       "<table border=\"1\" class=\"dataframe\">\n",
       "  <thead>\n",
       "    <tr style=\"text-align: right;\">\n",
       "      <th></th>\n",
       "      <th>q61</th>\n",
       "      <th>q61_suggestions</th>\n",
       "    </tr>\n",
       "  </thead>\n",
       "  <tbody>\n",
       "    <tr>\n",
       "      <th>93</th>\n",
       "      <td>экономист</td>\n",
       "      <td>[(экономист, 1.0)]</td>\n",
       "    </tr>\n",
       "    <tr>\n",
       "      <th>94</th>\n",
       "      <td>данный момент не работаю</td>\n",
       "      <td>NaN</td>\n",
       "    </tr>\n",
       "    <tr>\n",
       "      <th>95</th>\n",
       "      <td>учитель</td>\n",
       "      <td>[(учитель, 1.0)]</td>\n",
       "    </tr>\n",
       "    <tr>\n",
       "      <th>97</th>\n",
       "      <td>никем</td>\n",
       "      <td>NaN</td>\n",
       "    </tr>\n",
       "    <tr>\n",
       "      <th>98</th>\n",
       "      <td>я школьник</td>\n",
       "      <td>NaN</td>\n",
       "    </tr>\n",
       "    <tr>\n",
       "      <th>100</th>\n",
       "      <td>рекламист</td>\n",
       "      <td>NaN</td>\n",
       "    </tr>\n",
       "    <tr>\n",
       "      <th>102</th>\n",
       "      <td>руководитель участка</td>\n",
       "      <td>[(менеджер/руководитель ахо, 0.7935711144609798)]</td>\n",
       "    </tr>\n",
       "    <tr>\n",
       "      <th>104</th>\n",
       "      <td>никнм</td>\n",
       "      <td>NaN</td>\n",
       "    </tr>\n",
       "    <tr>\n",
       "      <th>105</th>\n",
       "      <td>не кем</td>\n",
       "      <td>NaN</td>\n",
       "    </tr>\n",
       "    <tr>\n",
       "      <th>107</th>\n",
       "      <td>ученик</td>\n",
       "      <td>NaN</td>\n",
       "    </tr>\n",
       "  </tbody>\n",
       "</table>\n",
       "</div>"
      ],
      "text/plain": [
       "                          q61  \\\n",
       "93                  экономист   \n",
       "94   данный момент не работаю   \n",
       "95                    учитель   \n",
       "97                      никем   \n",
       "98                 я школьник   \n",
       "100                 рекламист   \n",
       "102      руководитель участка   \n",
       "104                     никнм   \n",
       "105                    не кем   \n",
       "107                    ученик   \n",
       "\n",
       "                                       q61_suggestions  \n",
       "93                                  [(экономист, 1.0)]  \n",
       "94                                                 NaN  \n",
       "95                                    [(учитель, 1.0)]  \n",
       "97                                                 NaN  \n",
       "98                                                 NaN  \n",
       "100                                                NaN  \n",
       "102  [(менеджер/руководитель ахо, 0.7935711144609798)]  \n",
       "104                                                NaN  \n",
       "105                                                NaN  \n",
       "107                                                NaN  "
      ]
     },
     "execution_count": 26,
     "metadata": {},
     "output_type": "execute_result"
    }
   ],
   "source": [
    "data_preprocessed.dropna(subset=['q61']).drop_duplicates(subset=['q61'])[: 10]"
   ]
  },
  {
   "cell_type": "markdown",
   "id": "8f1faaf4",
   "metadata": {},
   "source": [
    "# Conclusion\n",
    "The algorithm works quite well on extremely irrelevant entries, however its accuracy remains far from perfection. These are some flaws found:\n",
    "- inaccurate suggestions \n",
    "- there are original entries having actual professions still being ignored by algorithm\n",
    "- misspells mostly lead to no processing at all\n",
    "\n",
    "Considering everything being said, one must decide whether to fix all the bugs in existing algorithm, or try to build different one."
   ]
  }
 ],
 "metadata": {
  "kernelspec": {
   "display_name": "Python 3 (ipykernel)",
   "language": "python",
   "name": "python3"
  },
  "language_info": {
   "codemirror_mode": {
    "name": "ipython",
    "version": 3
   },
   "file_extension": ".py",
   "mimetype": "text/x-python",
   "name": "python",
   "nbconvert_exporter": "python",
   "pygments_lexer": "ipython3",
   "version": "3.9.13"
  },
  "toc": {
   "base_numbering": 1,
   "nav_menu": {},
   "number_sections": true,
   "sideBar": true,
   "skip_h1_title": false,
   "title_cell": "Table of Contents",
   "title_sidebar": "Contents",
   "toc_cell": false,
   "toc_position": {},
   "toc_section_display": true,
   "toc_window_display": false
  }
 },
 "nbformat": 4,
 "nbformat_minor": 5
}
